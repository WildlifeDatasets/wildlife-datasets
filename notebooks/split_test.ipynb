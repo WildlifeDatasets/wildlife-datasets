{
 "cells": [
  {
   "cell_type": "markdown",
   "id": "53d22ac0-f260-4888-a20f-887cb6c07c93",
   "metadata": {
    "scrolled": true
   },
   "source": [
    "# Splits\n",
    "\n",
    "This notebook shows available splits into the training and testing sets."
   ]
  },
  {
   "cell_type": "code",
   "execution_count": 1,
   "id": "bf2f9ea1",
   "metadata": {
    "scrolled": true
   },
   "outputs": [],
   "source": [
    "import sys\n",
    "sys.path.append('..')\n",
    "\n",
    "from wildlife_datasets import datasets, splits\n",
    "\n",
    "#datasets.MacaqueFaces.get_data('../data/MacaqueFaces')\n",
    "dataset = datasets.MacaqueFaces('../data/MacaqueFaces')\n",
    "df = dataset.df.copy()\n",
    "\n",
    "# For testing purposes only\n",
    "df = df.iloc[4:]\n",
    "df.loc[df.iloc[:1000].index, 'date'] = '2016-01-01'"
   ]
  },
  {
   "cell_type": "markdown",
   "id": "2bab868b",
   "metadata": {},
   "source": [
    "# Closed-set split"
   ]
  },
  {
   "cell_type": "code",
   "execution_count": 2,
   "id": "2a141399",
   "metadata": {
    "scrolled": true
   },
   "outputs": [
    {
     "name": "stdout",
     "output_type": "stream",
     "text": [
      "Split: time-unaware closed-set\n",
      "Samples: train/test/unassigned/total = 3138/3138/0/6276\n",
      "Classes: train/test/unassigned/total = 34/34/0/34\n",
      "Samples: train only/test only        = 0/0\n",
      "Classes: train only/test only/joint  = 0/0/34\n",
      "\n",
      "Fraction of train set     = 50.00%\n",
      "Fraction of test set only = 0.00%\n"
     ]
    }
   ],
   "source": [
    "splitter = splits.ClosedSetSplit(0.5)\n",
    "idx_train, idx_test = splitter.split(df)[0]\n",
    "splits.analyze_split(df, idx_train, idx_test)"
   ]
  },
  {
   "cell_type": "markdown",
   "id": "2419cea2",
   "metadata": {},
   "source": [
    "# Open-set split"
   ]
  },
  {
   "cell_type": "code",
   "execution_count": 3,
   "id": "cb18bdf2",
   "metadata": {
    "scrolled": true
   },
   "outputs": [
    {
     "name": "stdout",
     "output_type": "stream",
     "text": [
      "Split: time-unaware open-set\n",
      "Samples: train/test/unassigned/total = 3134/3142/0/6276\n",
      "Classes: train/test/unassigned/total = 30/34/0/34\n",
      "Samples: train only/test only        = 0/760\n",
      "Classes: train only/test only/joint  = 0/4/30\n",
      "\n",
      "Fraction of train set     = 49.94%\n",
      "Fraction of test set only = 12.11%\n"
     ]
    }
   ],
   "source": [
    "splitter = splits.OpenSetSplit(0.5, 0.1)\n",
    "idx_train, idx_test = splitter.split(df)[0]\n",
    "splits.analyze_split(df, idx_train, idx_test)"
   ]
  },
  {
   "cell_type": "code",
   "execution_count": 4,
   "id": "0a106561",
   "metadata": {
    "scrolled": true
   },
   "outputs": [
    {
     "name": "stdout",
     "output_type": "stream",
     "text": [
      "Split: time-unaware open-set\n",
      "Samples: train/test/unassigned/total = 3143/3133/0/6276\n",
      "Classes: train/test/unassigned/total = 29/34/0/34\n",
      "Samples: train only/test only        = 0/940\n",
      "Classes: train only/test only/joint  = 0/5/29\n",
      "\n",
      "Fraction of train set     = 50.08%\n",
      "Fraction of test set only = 14.98%\n"
     ]
    }
   ],
   "source": [
    "splitter = splits.OpenSetSplit(0.5, n_class_test=5)\n",
    "idx_train, idx_test = splitter.split(df)[0]\n",
    "splits.analyze_split(df, idx_train, idx_test)"
   ]
  },
  {
   "cell_type": "markdown",
   "id": "06a6388a",
   "metadata": {},
   "source": [
    "# Disjoint split"
   ]
  },
  {
   "cell_type": "code",
   "execution_count": 5,
   "id": "dc03628f",
   "metadata": {
    "scrolled": true
   },
   "outputs": [
    {
     "name": "stdout",
     "output_type": "stream",
     "text": [
      "Split: time-unaware disjoint-set\n",
      "Samples: train/test/unassigned/total = 3100/3176/0/6276\n",
      "Classes: train/test/unassigned/total = 17/17/0/34\n",
      "Samples: train only/test only        = 3100/3176\n",
      "Classes: train only/test only/joint  = 17/17/0\n",
      "\n",
      "Fraction of train set     = 49.39%\n",
      "Fraction of test set only = 50.61%\n"
     ]
    }
   ],
   "source": [
    "splitter = splits.DisjointSetSplit(0.5)\n",
    "idx_train, idx_test = splitter.split(df)[0]\n",
    "splits.analyze_split(df, idx_train, idx_test)"
   ]
  },
  {
   "cell_type": "code",
   "execution_count": 6,
   "id": "9169b60b",
   "metadata": {
    "scrolled": true
   },
   "outputs": [
    {
     "name": "stdout",
     "output_type": "stream",
     "text": [
      "Split: time-unaware disjoint-set\n",
      "Samples: train/test/unassigned/total = 4416/1860/0/6276\n",
      "Classes: train/test/unassigned/total = 24/10/0/34\n",
      "Samples: train only/test only        = 4416/1860\n",
      "Classes: train only/test only/joint  = 24/10/0\n",
      "\n",
      "Fraction of train set     = 70.36%\n",
      "Fraction of test set only = 29.64%\n"
     ]
    }
   ],
   "source": [
    "splitter = splits.DisjointSetSplit(n_class_test=10)\n",
    "idx_train, idx_test = splitter.split(df)[0]\n",
    "splits.analyze_split(df, idx_train, idx_test)"
   ]
  },
  {
   "cell_type": "markdown",
   "id": "fa961acd",
   "metadata": {},
   "source": [
    "# Time-proportion splits"
   ]
  },
  {
   "cell_type": "code",
   "execution_count": 7,
   "id": "7e30e4c8",
   "metadata": {
    "scrolled": true
   },
   "outputs": [
    {
     "name": "stdout",
     "output_type": "stream",
     "text": [
      "Split: time-proportion closed-set\n",
      "Samples: train/test/unassigned/total = 4161/2115/0/6276\n",
      "Classes: train/test/unassigned/total = 34/29/0/34\n",
      "Samples: train only/test only        = 926/0\n",
      "Classes: train only/test only/joint  = 5/0/29\n",
      "\n",
      "Fraction of train set     = 66.30%\n",
      "Fraction of test set only = 0.00%\n"
     ]
    }
   ],
   "source": [
    "splitter = splits.TimeProportionSplit()\n",
    "idx_train, idx_test = splitter.split(df)[0]\n",
    "splits.analyze_split(df, idx_train, idx_test)"
   ]
  },
  {
   "cell_type": "code",
   "execution_count": 8,
   "id": "86518fd6",
   "metadata": {
    "scrolled": true
   },
   "outputs": [
    {
     "name": "stdout",
     "output_type": "stream",
     "text": [
      "Split: time-unaware closed-set\n",
      "Samples: train/test/unassigned/total = 4161/2115/0/6276\n",
      "Classes: train/test/unassigned/total = 34/29/0/34\n",
      "Samples: train only/test only        = 926/0\n",
      "Classes: train only/test only/joint  = 5/0/29\n",
      "\n",
      "Fraction of train set     = 66.30%\n",
      "Fraction of test set only = 0.00%\n"
     ]
    }
   ],
   "source": [
    "idx_train, idx_test = splitter.resplit_random(df, idx_train, idx_test)\n",
    "splits.analyze_split(df, idx_train, idx_test)"
   ]
  },
  {
   "cell_type": "code",
   "execution_count": 9,
   "id": "2a39cfc5",
   "metadata": {},
   "outputs": [
    {
     "name": "stdout",
     "output_type": "stream",
     "text": [
      "Split: time-unaware closed-set\n",
      "Samples: train/test/unassigned/total = 4161/2115/0/6276\n",
      "Classes: train/test/unassigned/total = 34/29/0/34\n",
      "Samples: train only/test only        = 926/0\n",
      "Classes: train only/test only/joint  = 5/0/29\n",
      "\n",
      "Fraction of train set     = 66.30%\n",
      "Fraction of test set only = 0.00%\n"
     ]
    }
   ],
   "source": [
    "splitter = splits.RandomProportion()\n",
    "idx_train, idx_test = splitter.split(df)[0]\n",
    "splits.analyze_split(df, idx_train, idx_test)"
   ]
  },
  {
   "cell_type": "markdown",
   "id": "9cde0e0b",
   "metadata": {},
   "source": [
    "# Time-cutoff split"
   ]
  },
  {
   "cell_type": "code",
   "execution_count": 10,
   "id": "3ea2a551",
   "metadata": {
    "scrolled": true
   },
   "outputs": [
    {
     "name": "stdout",
     "output_type": "stream",
     "text": [
      "Split: time-cutoff closed-set\n",
      "Samples: train/test/unassigned/total = 3137/2139/1000/6276\n",
      "Classes: train/test/unassigned/total = 29/29/5/34\n",
      "Samples: train only/test only        = 0/0\n",
      "Classes: train only/test only/joint  = 0/0/29\n",
      "\n",
      "Fraction of train set     = 49.98%\n",
      "Fraction of test set only = 0.00%\n"
     ]
    }
   ],
   "source": [
    "splitter = splits.TimeCutoffSplit(2015)\n",
    "idx_train, idx_test = splitter.split(df)[0]\n",
    "splits.analyze_split(df, idx_train, idx_test)"
   ]
  },
  {
   "cell_type": "code",
   "execution_count": 11,
   "id": "950929d1",
   "metadata": {},
   "outputs": [
    {
     "name": "stdout",
     "output_type": "stream",
     "text": [
      "Split: time-unaware closed-set\n",
      "Samples: train/test/unassigned/total = 3137/2139/1000/6276\n",
      "Classes: train/test/unassigned/total = 29/29/5/34\n",
      "Samples: train only/test only        = 0/0\n",
      "Classes: train only/test only/joint  = 0/0/29\n",
      "\n",
      "Fraction of train set     = 49.98%\n",
      "Fraction of test set only = 0.00%\n"
     ]
    }
   ],
   "source": [
    "idx_train, idx_test = splitter.resplit_random(df, idx_train, idx_test)\n",
    "splits.analyze_split(df, idx_train, idx_test)"
   ]
  }
 ],
 "metadata": {
  "kernelspec": {
   "display_name": "venv",
   "language": "python",
   "name": "python3"
  },
  "language_info": {
   "codemirror_mode": {
    "name": "ipython",
    "version": 3
   },
   "file_extension": ".py",
   "mimetype": "text/x-python",
   "name": "python",
   "nbconvert_exporter": "python",
   "pygments_lexer": "ipython3",
   "version": "3.10.12"
  }
 },
 "nbformat": 4,
 "nbformat_minor": 5
}
